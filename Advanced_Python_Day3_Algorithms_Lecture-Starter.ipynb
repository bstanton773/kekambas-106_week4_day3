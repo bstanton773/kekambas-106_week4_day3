{
 "cells": [
  {
   "cell_type": "markdown",
   "metadata": {},
   "source": [
    "# Classic Algorithms"
   ]
  },
  {
   "cell_type": "markdown",
   "metadata": {},
   "source": [
    "## Tasks Today:\n",
    " \n",
    "1) <b>In-Place Algorithms</b> <br>\n",
    " &nbsp;&nbsp;&nbsp;&nbsp; a) Syntax <br>\n",
    " &nbsp;&nbsp;&nbsp;&nbsp; a) Out of Place Algorithm <br>\n",
    " &nbsp;&nbsp;&nbsp;&nbsp; b) In-Class Exercise #1 <br>\n",
    "2) <b>Two Pointers</b> <br>\n",
    "3) <b>Sorting Algorithms</b> <br>\n",
    "4) <b>Merge Sort</b> <br>\n",
    " &nbsp;&nbsp;&nbsp;&nbsp; a) Video on Algorithms <br>\n",
    " &nbsp;&nbsp;&nbsp;&nbsp; b) How it Works <br>\n",
    "5) <b>Exercises</b> <br>\n",
    " &nbsp;&nbsp;&nbsp;&nbsp; a) Exercise #1 - Reverse a List in Place Using an In-Place Algorithm <br>\n",
    " &nbsp;&nbsp;&nbsp;&nbsp; b) Exercise #2 - Find Distinct Words <br>\n",
    " &nbsp;&nbsp;&nbsp;&nbsp; c) Exercise #3 - Write a program to implement a Linear Search Algorithm. <br>"
   ]
  },
  {
   "cell_type": "code",
   "execution_count": 1,
   "metadata": {},
   "outputs": [
    {
     "name": "stdout",
     "output_type": "stream",
     "text": [
      "0\n",
      "0\n"
     ]
    }
   ],
   "source": [
    "def find_first_index(a_list):\n",
    "    return a_list[0]\n",
    "\n",
    "list1 = [i for i in range(10)]\n",
    "list2 = [i for i in range(100)]\n",
    "\n",
    "\n",
    "print(find_first_index(list1))\n",
    "print(find_first_index(list2))"
   ]
  },
  {
   "cell_type": "code",
   "execution_count": 16,
   "metadata": {
    "scrolled": true
   },
   "outputs": [
    {
     "name": "stdout",
     "output_type": "stream",
     "text": [
      "0\n",
      "1\n",
      "2\n",
      "3\n",
      "4\n",
      "0\n",
      "1\n",
      "2\n",
      "3\n",
      "4\n"
     ]
    },
    {
     "data": {
      "text/plain": [
       "10"
      ]
     },
     "execution_count": 16,
     "metadata": {},
     "output_type": "execute_result"
    }
   ],
   "source": [
    "def count_operations(n):\n",
    "    num_operations = 0\n",
    "    for i in range(n):\n",
    "        print(i)\n",
    "        num_operations += 1\n",
    "    for j in range(n):\n",
    "        print(j)\n",
    "        num_operations += 1\n",
    "    return num_operations\n",
    "\n",
    "count_operations(5)\n"
   ]
  },
  {
   "cell_type": "code",
   "execution_count": 20,
   "metadata": {},
   "outputs": [
    {
     "name": "stdout",
     "output_type": "stream",
     "text": [
      "2437308997888\n",
      "[1, 2, 3, 3, 3, 3, 4, 5, 6, 7, 7, 8]\n",
      "2437308997888\n"
     ]
    }
   ],
   "source": [
    "my_list = [3, 5, 7, 8, 1, 2, 3, 4, 7, 3, 3, 6]\n",
    "\n",
    "print(id(my_list))\n",
    "\n",
    "def sort_my_list_in_place(a_list): # Constant Space O(1) - In Place Algorithm\n",
    "    a_list.sort()\n",
    "    name = 'Brian'\n",
    "    return name\n",
    "\n",
    "def sort_my_list_out_of_place(a_list): # Linear Space O(n) - Out of Place Algorithm\n",
    "    return sorted(a_list)\n",
    "\n",
    "sort_my_list_in_place(my_list)\n",
    "print(my_list)\n",
    "print(id(my_list))"
   ]
  },
  {
   "cell_type": "code",
   "execution_count": 21,
   "metadata": {},
   "outputs": [
    {
     "name": "stdout",
     "output_type": "stream",
     "text": [
      "[1, 2, 3, 3, 3, 3, 4, 5, 6, 7, 7, 8]\n",
      "2437308779008\n"
     ]
    }
   ],
   "source": [
    "my_sorted_list = sort_my_list_out_of_place(my_list)\n",
    "print(my_sorted_list)\n",
    "print(id(my_sorted_list))"
   ]
  },
  {
   "cell_type": "markdown",
   "metadata": {},
   "source": [
    "## In-Place Algorithms"
   ]
  },
  {
   "cell_type": "markdown",
   "metadata": {},
   "source": [
    "#### Syntax"
   ]
  },
  {
   "cell_type": "code",
   "execution_count": 23,
   "metadata": {},
   "outputs": [
    {
     "name": "stdout",
     "output_type": "stream",
     "text": [
      "Before swap: [1, 2, 3, 4, 5]\n",
      "After swap: [5, 2, 3, 4, 1]\n"
     ]
    }
   ],
   "source": [
    "list1 = [1, 2, 3, 4, 5]\n",
    "\n",
    "def swap(a_list, index_a, index_b): # Constant Time and Space O(1)\n",
    "    temp = a_list[index_a]\n",
    "    a_list[index_a] = a_list[index_b]\n",
    "    a_list[index_b] = temp\n",
    "    \n",
    "    \n",
    "print(\"Before swap:\", list1)\n",
    "swap(list1, 0, 4)\n",
    "print(\"After swap:\", list1)"
   ]
  },
  {
   "cell_type": "code",
   "execution_count": 24,
   "metadata": {},
   "outputs": [
    {
     "name": "stdout",
     "output_type": "stream",
     "text": [
      "a 1\n",
      "b 2\n",
      "c 3\n"
     ]
    }
   ],
   "source": [
    "# a_list[a], a_list[b] = a_list[b], a_list[a]\n",
    "\n",
    "a, b, c = 1, 2, 3\n",
    "\n",
    "print(\"a\", a)\n",
    "print(\"b\", b)\n",
    "print(\"c\", c)"
   ]
  },
  {
   "cell_type": "code",
   "execution_count": 25,
   "metadata": {},
   "outputs": [
    {
     "name": "stdout",
     "output_type": "stream",
     "text": [
      "Before swap: [1, 2, 3, 4, 5]\n",
      "After swap: [5, 2, 3, 4, 1]\n"
     ]
    }
   ],
   "source": [
    "list2 = [1, 2, 3, 4, 5]\n",
    "\n",
    "def swap2(a_list, index_a, index_b): # Constant Space O(1) - In-Place Algorithm and Constant Time\n",
    "    a_list[index_a], a_list[index_b] = a_list[index_b], a_list[index_a]\n",
    "    \n",
    "    \n",
    "print(\"Before swap:\", list2)\n",
    "swap2(list2, 0, 4)\n",
    "print(\"After swap:\", list2)"
   ]
  },
  {
   "cell_type": "markdown",
   "metadata": {},
   "source": [
    "#### Out of Place Algorithm"
   ]
  },
  {
   "cell_type": "code",
   "execution_count": 29,
   "metadata": {},
   "outputs": [
    {
     "name": "stdout",
     "output_type": "stream",
     "text": [
      "Before swap: ['blue', 'orange', 'red', 'green', 'yellow', 'purple', 'pink', 'white', 'black', 'brown']\n",
      "After swap: ['blue', 'orange', 'red', 'green', 'yellow', 'purple', 'pink', 'white', 'black', 'brown']\n",
      "New List: ['blue', 'yellow', 'red', 'green', 'orange', 'purple', 'pink', 'white', 'black', 'brown']\n"
     ]
    }
   ],
   "source": [
    "def out_of_place_swap(original_list, index1, index2): # Linear Space O(n) and Linear Time O(n)\n",
    "    # Create a copy of the original list\n",
    "    new_list = original_list[:] # O(n)\n",
    "    # Set the value at index1 of the new list to the value of index2 of the original\n",
    "    new_list[index1] = original_list[index2]\n",
    "    # Set new list index2 to the value at original list index1\n",
    "    new_list[index2] = original_list[index1]\n",
    "    # Return the newly created swapped list\n",
    "    return new_list\n",
    "\n",
    "\n",
    "list3 = ['blue', 'orange', 'red', 'green', 'yellow', 'purple', 'pink', 'white', 'black', 'brown']\n",
    "\n",
    "print('Before swap:', list3)\n",
    "new_list = out_of_place_swap(list3, 1, 4)\n",
    "print('After swap:', list3)\n",
    "print('New List:', new_list)"
   ]
  },
  {
   "cell_type": "code",
   "execution_count": 30,
   "metadata": {},
   "outputs": [
    {
     "name": "stdout",
     "output_type": "stream",
     "text": [
      "Help on built-in function sorted in module builtins:\n",
      "\n",
      "sorted(iterable, /, *, key=None, reverse=False)\n",
      "    Return a new list containing all items from the iterable in ascending order.\n",
      "    \n",
      "    A custom key function can be supplied to customize the sort order, and the\n",
      "    reverse flag can be set to request the result in descending order.\n",
      "\n"
     ]
    }
   ],
   "source": [
    "help(sorted)"
   ]
  },
  {
   "cell_type": "code",
   "execution_count": 31,
   "metadata": {},
   "outputs": [
    {
     "name": "stdout",
     "output_type": "stream",
     "text": [
      "Help on method_descriptor:\n",
      "\n",
      "sort(self, /, *, key=None, reverse=False)\n",
      "    Sort the list in ascending order and return None.\n",
      "    \n",
      "    The sort is in-place (i.e. the list itself is modified) and stable (i.e. the\n",
      "    order of two equal elements is maintained).\n",
      "    \n",
      "    If a key function is given, apply it once to each list item and sort them,\n",
      "    ascending or descending, according to their function values.\n",
      "    \n",
      "    The reverse flag can be set to sort in descending order.\n",
      "\n"
     ]
    }
   ],
   "source": [
    "help(list.sort)"
   ]
  },
  {
   "cell_type": "markdown",
   "metadata": {},
   "source": [
    "#### In-Class Exercise #1 <br>\n",
    "<p>Write a function that takes in four arguments (a_list, index1, index2, index3), and swaps those three positions in the list passed in.</p>"
   ]
  },
  {
   "cell_type": "code",
   "execution_count": 33,
   "metadata": {},
   "outputs": [
    {
     "name": "stdout",
     "output_type": "stream",
     "text": [
      "['hello', 'adios', 'bonjour', 'hola', 'goodbye']\n"
     ]
    }
   ],
   "source": [
    "def swap_three(a_list, a, b, c):\n",
    "    a_list[a], a_list[b], a_list[c] = a_list[b], a_list[c], a_list[a]\n",
    "\n",
    "\n",
    "greetings = ['hello', 'goodbye', 'adios', 'hola', 'bonjour']\n",
    "swap_three(greetings, 1, 2, 4)\n",
    "print(greetings)"
   ]
  },
  {
   "cell_type": "markdown",
   "metadata": {},
   "source": [
    "## Two Pointers"
   ]
  },
  {
   "cell_type": "markdown",
   "metadata": {},
   "source": [
    "#### Syntax"
   ]
  },
  {
   "cell_type": "code",
   "execution_count": 36,
   "metadata": {},
   "outputs": [
    {
     "name": "stdout",
     "output_type": "stream",
     "text": [
      "[80, 70, 60, 50, 40, 30, 20, 10]\n"
     ]
    }
   ],
   "source": [
    "def reverse_in_place(a_list):\n",
    "    # Create two variables to point to the index we want to swap\n",
    "    left = 0 # First element in the list\n",
    "    right = len(a_list) - 1 # last element in the list\n",
    "    while left < right:\n",
    "        # Swap those two positions\n",
    "        a_list[left], a_list[right] = a_list[right], a_list[left]\n",
    "        left += 1\n",
    "        right -= 1\n",
    "#     return a_list\n",
    "\n",
    "\n",
    "some_list = [10, 20, 30, 40, 50, 60, 70, 80]\n",
    "\n",
    "reverse_in_place(some_list)\n",
    "\n",
    "print(some_list)"
   ]
  },
  {
   "cell_type": "code",
   "execution_count": 37,
   "metadata": {},
   "outputs": [
    {
     "name": "stdout",
     "output_type": "stream",
     "text": [
      "2437309043776\n",
      "2437308725888\n"
     ]
    }
   ],
   "source": [
    "my_list2 = [1, 2, 3, 4]\n",
    "print(id(my_list2))\n",
    "\n",
    "my_list2 = my_list2[::-1]\n",
    "print(id(my_list2))"
   ]
  },
  {
   "cell_type": "markdown",
   "metadata": {},
   "source": [
    "# Sorting Algorithms"
   ]
  },
  {
   "cell_type": "code",
   "execution_count": 45,
   "metadata": {},
   "outputs": [
    {
     "name": "stdout",
     "output_type": "stream",
     "text": [
      "[15, 22, 36, 27, 7, 47, 22, 6, 14, 9]\n"
     ]
    }
   ],
   "source": [
    "import random\n",
    "\n",
    "list_to_sort = [random.randint(1,50) for _ in range(10)]\n",
    "\n",
    "print(list_to_sort)"
   ]
  },
  {
   "cell_type": "code",
   "execution_count": 68,
   "metadata": {},
   "outputs": [],
   "source": [
    "list_to_sort = [15, 22, 36, 27, 7, 47, 22, 6, 14, 9]"
   ]
  },
  {
   "cell_type": "markdown",
   "metadata": {},
   "source": [
    "#### Bubble Sort\n",
    "\n",
    "Worst Case: O(n^2) Time - O(1) Space"
   ]
  },
  {
   "cell_type": "code",
   "execution_count": 70,
   "metadata": {},
   "outputs": [
    {
     "data": {
      "text/plain": [
       "[47, 36, 27, 22, 22, 15, 14, 9, 7, 6]"
      ]
     },
     "execution_count": 70,
     "metadata": {},
     "output_type": "execute_result"
    }
   ],
   "source": [
    "def bubble_sort(lst, reverse=False):\n",
    "    # When we first start, assume the list is unsorted\n",
    "    is_sorted = False\n",
    "    # While the list is not sorted, loop through and bubble the largest to the top\n",
    "    while not is_sorted:\n",
    "        # Begin the for loop with the assumption that the list is sorted.\n",
    "        is_sorted = True\n",
    "        # Loop from 0-index to the last-index - 1\n",
    "        for idx in range(len(lst) - 1):\n",
    "            # if the list at index idx is greater than the value to its right\n",
    "            if (lst[idx] > lst[idx+1] and not reverse) or (lst[idx] < lst[idx+1] and reverse):\n",
    "                # swap those two value\n",
    "                lst[idx], lst[idx+1] = lst[idx+1], lst[idx]\n",
    "                # if we do have to swap at any point, that means our list is not sorted\n",
    "                is_sorted = False\n",
    "                \n",
    "    return lst\n",
    "\n",
    "\n",
    "bubble_sort(list_to_sort, reverse=True)"
   ]
  },
  {
   "cell_type": "code",
   "execution_count": 71,
   "metadata": {
    "scrolled": true
   },
   "outputs": [
    {
     "data": {
      "text/plain": [
       "[47, 36, 27, 22, 22, 15, 14, 9, 7, 6]"
      ]
     },
     "execution_count": 71,
     "metadata": {},
     "output_type": "execute_result"
    }
   ],
   "source": [
    "def bubble_sort(lst, reverse=False):\n",
    "    # While the list is not sorted, loop through and bubble the largest to the top\n",
    "    while True:\n",
    "        # Begin the for loop with the assumption that the list is sorted.\n",
    "        is_sorted = True\n",
    "        # Loop from 0-index to the last-index - 1\n",
    "        for idx in range(len(lst) - 1):\n",
    "            # if the list at index idx is greater than the value to its right\n",
    "            if (lst[idx] > lst[idx+1] and not reverse) or (lst[idx] < lst[idx+1] and reverse):\n",
    "                # swap those two value\n",
    "                lst[idx], lst[idx+1] = lst[idx+1], lst[idx]\n",
    "                # if we do have to swap at any point, that means our list is not sorted\n",
    "                is_sorted = False\n",
    "        if is_sorted:\n",
    "            break\n",
    "                \n",
    "    return lst\n",
    "\n",
    "\n",
    "bubble_sort(list_to_sort, reverse=True)"
   ]
  },
  {
   "cell_type": "markdown",
   "metadata": {},
   "source": [
    "##### Insertion Sort\n",
    "\n",
    "Worst Case: O(n^2) time - O(1)space"
   ]
  },
  {
   "cell_type": "code",
   "execution_count": 72,
   "metadata": {},
   "outputs": [
    {
     "name": "stdout",
     "output_type": "stream",
     "text": [
      "[30, 8, 27, 25, 41, 43, 17, 8, 33, 32]\n"
     ]
    }
   ],
   "source": [
    "list_to_sort = [random.randint(1,50) for _ in range(10)]\n",
    "print(list_to_sort)"
   ]
  },
  {
   "cell_type": "code",
   "execution_count": 73,
   "metadata": {},
   "outputs": [
    {
     "data": {
      "text/plain": [
       "[8, 8, 17, 25, 27, 30, 32, 33, 41, 43]"
      ]
     },
     "execution_count": 73,
     "metadata": {},
     "output_type": "execute_result"
    }
   ],
   "source": [
    "def insertion_sort(lst):\n",
    "    # Loop over the unordered section (start at 1 because 0-index is \"sorted\")\n",
    "    for i in range(1, len(lst)):\n",
    "        # While we're not at the front of the list and the element to the left is less than our element\n",
    "        while i > 0 and lst[i] < lst[i-1]:\n",
    "            # swap our element with the element to its left\n",
    "            lst[i], lst[i-1] = lst[i-1], lst[i]\n",
    "            # move our pointer left one element (match our swap)\n",
    "            i -= 1\n",
    "    return lst\n",
    "\n",
    "insertion_sort(list_to_sort)"
   ]
  },
  {
   "cell_type": "markdown",
   "metadata": {},
   "source": [
    "## Merge Sort"
   ]
  },
  {
   "cell_type": "markdown",
   "metadata": {},
   "source": [
    "#### How it Works"
   ]
  },
  {
   "cell_type": "code",
   "execution_count": 75,
   "metadata": {
    "scrolled": true
   },
   "outputs": [
    {
     "name": "stdout",
     "output_type": "stream",
     "text": [
      "[28, 24, 4, 46, 36, 15, 20, 22]\n"
     ]
    }
   ],
   "source": [
    "list_to_sort = [random.randint(1, 50) for _ in range(8)]\n",
    "print(list_to_sort)"
   ]
  },
  {
   "cell_type": "code",
   "execution_count": 80,
   "metadata": {},
   "outputs": [],
   "source": [
    "list_to_sort = [28, 24, 4, 46, 36, 15, 20, 22]"
   ]
  },
  {
   "cell_type": "code",
   "execution_count": 81,
   "metadata": {},
   "outputs": [
    {
     "name": "stdout",
     "output_type": "stream",
     "text": [
      "Splitting... [28, 24, 4, 46, 36, 15, 20, 22]\n",
      "Splitting... [28, 24, 4, 46]\n",
      "Splitting... [28, 24]\n",
      "Merged... [28]\n",
      "Merged... [24]\n",
      "Merged... [24, 28]\n",
      "Splitting... [4, 46]\n",
      "Merged... [4]\n",
      "Merged... [46]\n",
      "Merged... [4, 46]\n",
      "Merged... [4, 24, 28, 46]\n",
      "Splitting... [36, 15, 20, 22]\n",
      "Splitting... [36, 15]\n",
      "Merged... [36]\n",
      "Merged... [15]\n",
      "Merged... [15, 36]\n",
      "Splitting... [20, 22]\n",
      "Merged... [20]\n",
      "Merged... [22]\n",
      "Merged... [20, 22]\n",
      "Merged... [15, 20, 22, 36]\n",
      "Merged... [4, 15, 20, 22, 24, 28, 36, 46]\n"
     ]
    },
    {
     "data": {
      "text/plain": [
       "[4, 15, 20, 22, 24, 28, 36, 46]"
      ]
     },
     "execution_count": 81,
     "metadata": {},
     "output_type": "execute_result"
    }
   ],
   "source": [
    "def merge_sort(lst):\n",
    "    # Check to see if the list has more than one element\n",
    "    if len(lst) > 1:\n",
    "        # Find the midway point\n",
    "        mid = len(lst) // 2\n",
    "        print(\"Splitting...\", lst)\n",
    "        left_half = lst[:mid]\n",
    "        right_half = lst[mid:]\n",
    "        \n",
    "        # Recursively call merge sort on the left half and then right half\n",
    "        merge_sort(left_half)\n",
    "        merge_sort(right_half)\n",
    "        \n",
    "        # Merge the left half with the right half\n",
    "        \n",
    "        # index pointer for our list\n",
    "        l = 0 # pointer for left half list\n",
    "        r = 0 # pointer for right half list\n",
    "        m = 0 # pointer for main list\n",
    "        \n",
    "        # While there are still elements in both left and right\n",
    "        while l < len(left_half) and r < len(right_half):\n",
    "            # If the lowest value in the left half is less than the lowest value in the right half\n",
    "            if left_half[l] < right_half[r]:\n",
    "                # Add the value at the left half to the main list\n",
    "                lst[m] = left_half[l]\n",
    "                # move the left pointer right one element\n",
    "                l += 1\n",
    "            # If the lowest in the right half is less than or equal than lowest in left\n",
    "            else:\n",
    "                # Add the value at the right half to the main list\n",
    "                lst[m] = right_half[r]\n",
    "                # move the right pointer right one element\n",
    "                r += 1\n",
    "            # Either way, always move the main pointer over 1\n",
    "            m += 1\n",
    "        # If right half is exhausted first  \n",
    "        if l < len(left_half):\n",
    "            # Fill the rest of main with left half\n",
    "            lst[m:] = left_half[l:]\n",
    "        # If left half is exhausted first, fill main with rest of righ half\n",
    "        if r < len(right_half):\n",
    "            lst[m:] = right_half[r:]\n",
    "    print('Merged...', lst)\n",
    "    return lst\n",
    "        \n",
    "    \n",
    "merge_sort(list_to_sort)"
   ]
  },
  {
   "cell_type": "markdown",
   "metadata": {},
   "source": [
    "# Binary Search\n",
    "\n",
    "The Binary Search algorithm works by finding the number in the middle of a given array and comparing it to the target. **Given that the array is sorted**\n",
    "\n",
    "* The worst case run time for this algorithm is `O(log(n))`"
   ]
  },
  {
   "cell_type": "code",
   "execution_count": 82,
   "metadata": {},
   "outputs": [
    {
     "name": "stdout",
     "output_type": "stream",
     "text": [
      "[4, 15, 20, 22, 24, 28, 36, 46]\n"
     ]
    }
   ],
   "source": [
    "print(list_to_sort)"
   ]
  },
  {
   "cell_type": "code",
   "execution_count": 85,
   "metadata": {},
   "outputs": [
    {
     "data": {
      "text/plain": [
       "-1"
      ]
     },
     "execution_count": 85,
     "metadata": {},
     "output_type": "execute_result"
    }
   ],
   "source": [
    "# Less == Left\n",
    "# Greater == Right\n",
    "# List of numbers MUST be sorted\n",
    "\n",
    "def binary_search(lst, target):\n",
    "    low = 0 # first element\n",
    "    high = len(lst) - 1 # last element\n",
    "    while low <= high:\n",
    "        # find the midway point between the high and low\n",
    "        mid = (low + high) // 2\n",
    "        # If the midway point is equal to our target\n",
    "        if target == lst[mid]:\n",
    "            # Hooray we have found our element!\n",
    "            return f\"The index for {target} is {mid}\"\n",
    "        # If our target is less than the midway element\n",
    "        elif target < lst[mid]:\n",
    "            # set the high point to one less than our mid point\n",
    "            high = mid - 1\n",
    "        # If our target is greater than mid\n",
    "        else:\n",
    "            # set the low point to one greater than our mid point\n",
    "            low = mid + 1\n",
    "    # If low ever gets higher than high, we know the element is not in the list\n",
    "    return -1\n",
    "\n",
    "binary_search(list_to_sort, 55)"
   ]
  },
  {
   "cell_type": "markdown",
   "metadata": {},
   "source": [
    "# Exercises"
   ]
  },
  {
   "cell_type": "markdown",
   "metadata": {},
   "source": [
    "### Exercise #1 <br>\n",
    "<p>Reverse the list below in-place using an in-place algorithm.<br>For extra credit: Reverse the strings at the same time.</p>"
   ]
  },
  {
   "cell_type": "code",
   "execution_count": 86,
   "metadata": {},
   "outputs": [],
   "source": [
    "words = ['this' , 'is', 'a', 'sentence', '.']\n",
    "\n",
    "# Output: ['.', 'sentence', 'a', 'is', 'this']\n",
    "# Bonus: ['.', 'ecnetnes', 'a', 'si', 'siht']"
   ]
  },
  {
   "cell_type": "markdown",
   "metadata": {},
   "source": [
    "### Exercise #2 <br>\n",
    "<p>Create a function that counts how many distinct words are in the string below, then outputs a dictionary with the words as the key and the value as the amount of times that word appears in the string.</p>\n",
    "Example Output:<code>{'in': 1, 'computing': 1, 'a': 5, ...}</code>"
   ]
  },
  {
   "cell_type": "code",
   "execution_count": null,
   "metadata": {},
   "outputs": [],
   "source": [
    "a_text = 'In computing, a hash table hash map is a data structure which implements an associative array abstract data type, a structure that can map keys to values. A hash table uses a hash function to compute an index into an array of buckets or slots from which the desired value can be found'\n",
    "\n"
   ]
  },
  {
   "cell_type": "markdown",
   "metadata": {},
   "source": [
    "## Exercise #3\n",
    "\n",
    "Write a function implementing a Linear Search Algorithm. A linear search is a method for finding an element within a list. It sequentially checks each element of the list until a match is found or the whole list has been searched. If you do not find a match, return -1"
   ]
  },
  {
   "cell_type": "code",
   "execution_count": null,
   "metadata": {},
   "outputs": [],
   "source": [
    "nums_list = [10,23,45,70,11,15]\n",
    "nums_list.sort()\n",
    "target = 70\n",
    "\n",
    "# If number is not present return -1"
   ]
  }
 ],
 "metadata": {
  "kernelspec": {
   "display_name": "Python 3 (ipykernel)",
   "language": "python",
   "name": "python3"
  },
  "language_info": {
   "codemirror_mode": {
    "name": "ipython",
    "version": 3
   },
   "file_extension": ".py",
   "mimetype": "text/x-python",
   "name": "python",
   "nbconvert_exporter": "python",
   "pygments_lexer": "ipython3",
   "version": "3.9.13"
  }
 },
 "nbformat": 4,
 "nbformat_minor": 2
}
