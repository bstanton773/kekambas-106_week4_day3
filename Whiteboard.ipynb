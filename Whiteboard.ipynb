{
 "cells": [
  {
   "cell_type": "code",
   "execution_count": 2,
   "id": "c931fa04",
   "metadata": {},
   "outputs": [
    {
     "name": "stdout",
     "output_type": "stream",
     "text": [
      "What month were you born? 12\n",
      "Not a month. Please enter the full month name: December\n"
     ]
    },
    {
     "data": {
      "text/plain": [
       "'Turquoise'"
      ]
     },
     "execution_count": 2,
     "metadata": {},
     "output_type": "execute_result"
    }
   ],
   "source": [
    "#Write a function that prompts the user for their birth month(represented as a number), and returns their birthstone.\n",
    "#If they input an invalid month, tell them to try again\n",
    "#Note, you do not need to make 12 if statements to solve this problem\n",
    "\n",
    "stones={\n",
    "    1:\"Garnet\",\n",
    "    2:\"Amethyst\",\n",
    "    3:\"Aquamarine\",\n",
    "    4:\"Diamond\",\n",
    "    5:\"Emerald\",\n",
    "    6:\"Pearl\",\n",
    "    7:\"Ruby\",\n",
    "    8:\"Peridot\",\n",
    "    9:\"Sapphire\",\n",
    "    10:\"Opal\",\n",
    "    11:\"Topaz\",\n",
    "    12:\"Turquoise\"\n",
    "}\n",
    "\n",
    "def get_birthstone():\n",
    "    months = {\n",
    "        'January': 1,\n",
    "        'February': 2,\n",
    "        'March': 3,\n",
    "        'April': 4,\n",
    "        'May': 5,\n",
    "        'June': 6,\n",
    "        'July': 7,\n",
    "        'August': 8,\n",
    "        'September': 9,\n",
    "        'October': 10,\n",
    "        'November': 11,\n",
    "        'December': 12,\n",
    "    }\n",
    "    birth_month = input('What month were you born? ').title()\n",
    "    while birth_month not in months:\n",
    "        birth_month = input('Not a month. Please enter the full month name: ')\n",
    "    return stones[months[birth_month]]\n",
    "\n",
    "\n",
    "get_birthstone()"
   ]
  },
  {
   "cell_type": "code",
   "execution_count": 19,
   "id": "d42dd8fa",
   "metadata": {},
   "outputs": [
    {
     "name": "stdout",
     "output_type": "stream",
     "text": [
      "What number month12\n",
      "Turquoise\n",
      "This also runs\n",
      "This will always run\n",
      "Your birthstone is Turquoise\n"
     ]
    }
   ],
   "source": [
    "try:\n",
    "    month = int(input('What number month'))\n",
    "    stone = stones[month]\n",
    "    print(stone)\n",
    "#     x = 5/0\n",
    "except ValueError:\n",
    "    stone = 'Nothing'\n",
    "    print('You need to enter a digit')\n",
    "\n",
    "else:\n",
    "    print(\"This also runs\")\n",
    "finally:\n",
    "    print(\"This will always run\")\n",
    "    \n",
    "print(f'Your birthstone is {stone}')"
   ]
  },
  {
   "cell_type": "code",
   "execution_count": null,
   "id": "e3482ef2",
   "metadata": {},
   "outputs": [],
   "source": []
  }
 ],
 "metadata": {
  "kernelspec": {
   "display_name": "Python 3 (ipykernel)",
   "language": "python",
   "name": "python3"
  },
  "language_info": {
   "codemirror_mode": {
    "name": "ipython",
    "version": 3
   },
   "file_extension": ".py",
   "mimetype": "text/x-python",
   "name": "python",
   "nbconvert_exporter": "python",
   "pygments_lexer": "ipython3",
   "version": "3.9.13"
  }
 },
 "nbformat": 4,
 "nbformat_minor": 5
}
